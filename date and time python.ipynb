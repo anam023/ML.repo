{
 "cells": [
  {
   "cell_type": "markdown",
   "metadata": {},
   "source": [
    "## Working with dates in python"
   ]
  },
  {
   "cell_type": "code",
   "execution_count": 1,
   "metadata": {
    "ExecuteTime": {
     "end_time": "2020-09-24T05:35:46.877435Z",
     "start_time": "2020-09-24T05:35:46.872451Z"
    }
   },
   "outputs": [
    {
     "name": "stdout",
     "output_type": "stream",
     "text": [
      "2020-04-23\n",
      "<class 'datetime.date'>\n"
     ]
    }
   ],
   "source": [
    "#the date class in the DateTime module of python deals with dates in the Georgian calender.\n",
    "#it accepts three integer arguments:year, month and day.\n",
    "\n",
    "from datetime import date\n",
    "\n",
    "d1= date(2020,4,23)\n",
    "print(d1)\n",
    "print(type(d1))"
   ]
  },
  {
   "cell_type": "code",
   "execution_count": 2,
   "metadata": {
    "ExecuteTime": {
     "end_time": "2020-09-24T06:40:35.735863Z",
     "start_time": "2020-09-24T06:40:35.730867Z"
    }
   },
   "outputs": [
    {
     "name": "stdout",
     "output_type": "stream",
     "text": [
      "2020-09-24\n",
      "Day: 24\n",
      "Month: 9\n",
      "Year: 2020\n"
     ]
    }
   ],
   "source": [
    "#present day date \n",
    "d2= date.today()\n",
    "print(d2)\n",
    "\n",
    "#day\n",
    "print('Day:', d2.day)\n",
    "\n",
    "#month\n",
    "print('Month:', d2.month)\n",
    "\n",
    "#year\n",
    "print('Year:', d2.year)"
   ]
  },
  {
   "cell_type": "code",
   "execution_count": 3,
   "metadata": {
    "ExecuteTime": {
     "end_time": "2020-09-24T06:42:04.418568Z",
     "start_time": "2020-09-24T06:42:04.413582Z"
    }
   },
   "outputs": [
    {
     "name": "stdout",
     "output_type": "stream",
     "text": [
      "13:20:13.000040\n",
      "<class 'datetime.time'>\n"
     ]
    }
   ],
   "source": [
    "# importing time class from datetime\n",
    "\n",
    "from datetime import time\n",
    "t1= time(13,20,13,40)\n",
    "\n",
    "print(t1)\n",
    "print(type(t1))"
   ]
  },
  {
   "cell_type": "code",
   "execution_count": 4,
   "metadata": {
    "ExecuteTime": {
     "end_time": "2020-09-24T10:12:13.274687Z",
     "start_time": "2020-09-24T10:12:13.256243Z"
    }
   },
   "outputs": [
    {
     "name": "stdout",
     "output_type": "stream",
     "text": [
      "Hour: 13\n",
      "second: 13\n"
     ]
    }
   ],
   "source": [
    "#hour\n",
    "print('Hour:', t1.hour)\n",
    "\n",
    "#second\n",
    "print('second:', t1.second)"
   ]
  },
  {
   "cell_type": "code",
   "execution_count": 5,
   "metadata": {
    "ExecuteTime": {
     "end_time": "2020-09-24T10:17:15.224226Z",
     "start_time": "2020-09-24T10:17:15.215384Z"
    }
   },
   "outputs": [
    {
     "name": "stdout",
     "output_type": "stream",
     "text": [
      "2020-04-23 11:20:20.000040\n",
      "<class 'datetime.datetime'>\n"
     ]
    }
   ],
   "source": [
    "#another class is datetime , combination of date and time attributes\n",
    "from datetime import datetime\n",
    "d1= datetime(2020,4,23,11,20,20,40)\n",
    "print(d1)\n",
    "print(type(d1))"
   ]
  },
  {
   "cell_type": "code",
   "execution_count": 6,
   "metadata": {
    "ExecuteTime": {
     "end_time": "2020-09-24T10:17:43.541761Z",
     "start_time": "2020-09-24T10:17:43.523340Z"
    }
   },
   "outputs": [
    {
     "data": {
      "text/plain": [
       "datetime.datetime(2020, 9, 24, 15, 47, 43, 523340)"
      ]
     },
     "execution_count": 6,
     "metadata": {},
     "output_type": "execute_result"
    }
   ],
   "source": [
    "#local datetime\n",
    "d1= datetime.now()\n",
    "d1"
   ]
  },
  {
   "cell_type": "code",
   "execution_count": 9,
   "metadata": {
    "ExecuteTime": {
     "end_time": "2020-09-24T10:43:39.779297Z",
     "start_time": "2020-09-24T10:43:39.755059Z"
    }
   },
   "outputs": [
    {
     "name": "stdout",
     "output_type": "stream",
     "text": [
      "datetime: 2020-09-24 15:47:43.523340\n",
      "date: 2020-09-24\n",
      "time: 15:47:43.523340\n",
      "new datetime: 2020-09-15 08:47:43.523340\n"
     ]
    }
   ],
   "source": [
    "print('datetime:',d1)\n",
    "#date\n",
    "print('date:',d1.date())\n",
    "#time\n",
    "print('time:',d1.time())\n",
    "\n",
    "\n",
    "\n",
    "#updating old dates\n",
    "#new datetime\n",
    "print('new datetime:', d1.replace(day= 15, hour=8))"
   ]
  },
  {
   "cell_type": "code",
   "execution_count": 10,
   "metadata": {
    "ExecuteTime": {
     "end_time": "2020-09-24T11:05:29.450131Z",
     "start_time": "2020-09-24T11:05:29.442136Z"
    }
   },
   "outputs": [
    {
     "name": "stdout",
     "output_type": "stream",
     "text": [
      "3\n",
      "4\n"
     ]
    }
   ],
   "source": [
    "#weekday from datetime\n",
    "#the weekday() method returns an integer value for the day of the week\n",
    "#where monday is 0 and sunday is 6\n",
    "\n",
    "d1= datetime.now()\n",
    "#week starts from 0\n",
    "print(d1.weekday())\n",
    "\n",
    "#to start week from 1\n",
    "print(d1.isoweekday())"
   ]
  },
  {
   "cell_type": "code",
   "execution_count": 15,
   "metadata": {
    "ExecuteTime": {
     "end_time": "2020-09-24T11:12:51.799091Z",
     "start_time": "2020-09-24T11:12:51.780388Z"
    }
   },
   "outputs": [
    {
     "name": "stdout",
     "output_type": "stream",
     "text": [
      "(2020, 39, 4)\n",
      "week: 39\n",
      "month: 4\n"
     ]
    }
   ],
   "source": [
    "#what week of year it is?\n",
    "d1= datetime.now()\n",
    "\n",
    "#returns year, week, month\n",
    "print(d1.isocalendar())\n",
    "\n",
    "print('week:', d1.isocalendar()[1])\n",
    "\n",
    "print('month:',d1.isocalendar()[2])"
   ]
  },
  {
   "cell_type": "code",
   "execution_count": 16,
   "metadata": {
    "ExecuteTime": {
     "end_time": "2020-09-24T11:19:02.742723Z",
     "start_time": "2020-09-24T11:19:02.717883Z"
    }
   },
   "outputs": [
    {
     "data": {
      "text/plain": [
       "True"
      ]
     },
     "execution_count": 16,
     "metadata": {},
     "output_type": "execute_result"
    }
   ],
   "source": [
    "#to check leap year or not? USE CALENDAR!\n",
    "import calendar\n",
    "d1= datetime.now()\n",
    "\n",
    "#leap year or not\n",
    "calendar.isleap(d1.year) #output true or false\n",
    "#isleap() is a function of calendar"
   ]
  },
  {
   "cell_type": "code",
   "execution_count": 23,
   "metadata": {
    "ExecuteTime": {
     "end_time": "2020-09-24T11:21:52.489801Z",
     "start_time": "2020-09-24T11:21:52.471680Z"
    }
   },
   "outputs": [
    {
     "name": "stdout",
     "output_type": "stream",
     "text": [
      "     April 2024\n",
      "Mo Tu We Th Fr Sa Su\n",
      " 1  2  3  4  5  6  7\n",
      " 8  9 10 11 12 13 14\n",
      "15 16 17 18 19 20 21\n",
      "22 23 24 25 26 27 28\n",
      "29 30\n",
      "\n"
     ]
    }
   ],
   "source": [
    "print(calendar.month(2024,4))"
   ]
  },
  {
   "cell_type": "code",
   "execution_count": 25,
   "metadata": {
    "ExecuteTime": {
     "end_time": "2020-09-24T11:22:37.895766Z",
     "start_time": "2020-09-24T11:22:37.873334Z"
    }
   },
   "outputs": [
    {
     "name": "stdout",
     "output_type": "stream",
     "text": [
      "                                  2020\n",
      "\n",
      "      January                   February                   March\n",
      "Mo Tu We Th Fr Sa Su      Mo Tu We Th Fr Sa Su      Mo Tu We Th Fr Sa Su\n",
      "       1  2  3  4  5                      1  2                         1\n",
      " 6  7  8  9 10 11 12       3  4  5  6  7  8  9       2  3  4  5  6  7  8\n",
      "13 14 15 16 17 18 19      10 11 12 13 14 15 16       9 10 11 12 13 14 15\n",
      "20 21 22 23 24 25 26      17 18 19 20 21 22 23      16 17 18 19 20 21 22\n",
      "27 28 29 30 31            24 25 26 27 28 29         23 24 25 26 27 28 29\n",
      "                                                    30 31\n",
      "\n",
      "       April                      May                       June\n",
      "Mo Tu We Th Fr Sa Su      Mo Tu We Th Fr Sa Su      Mo Tu We Th Fr Sa Su\n",
      "       1  2  3  4  5                   1  2  3       1  2  3  4  5  6  7\n",
      " 6  7  8  9 10 11 12       4  5  6  7  8  9 10       8  9 10 11 12 13 14\n",
      "13 14 15 16 17 18 19      11 12 13 14 15 16 17      15 16 17 18 19 20 21\n",
      "20 21 22 23 24 25 26      18 19 20 21 22 23 24      22 23 24 25 26 27 28\n",
      "27 28 29 30               25 26 27 28 29 30 31      29 30\n",
      "\n",
      "        July                     August                  September\n",
      "Mo Tu We Th Fr Sa Su      Mo Tu We Th Fr Sa Su      Mo Tu We Th Fr Sa Su\n",
      "       1  2  3  4  5                      1  2          1  2  3  4  5  6\n",
      " 6  7  8  9 10 11 12       3  4  5  6  7  8  9       7  8  9 10 11 12 13\n",
      "13 14 15 16 17 18 19      10 11 12 13 14 15 16      14 15 16 17 18 19 20\n",
      "20 21 22 23 24 25 26      17 18 19 20 21 22 23      21 22 23 24 25 26 27\n",
      "27 28 29 30 31            24 25 26 27 28 29 30      28 29 30\n",
      "                          31\n",
      "\n",
      "      October                   November                  December\n",
      "Mo Tu We Th Fr Sa Su      Mo Tu We Th Fr Sa Su      Mo Tu We Th Fr Sa Su\n",
      "          1  2  3  4                         1          1  2  3  4  5  6\n",
      " 5  6  7  8  9 10 11       2  3  4  5  6  7  8       7  8  9 10 11 12 13\n",
      "12 13 14 15 16 17 18       9 10 11 12 13 14 15      14 15 16 17 18 19 20\n",
      "19 20 21 22 23 24 25      16 17 18 19 20 21 22      21 22 23 24 25 26 27\n",
      "26 27 28 29 30 31         23 24 25 26 27 28 29      28 29 30 31\n",
      "                          30\n",
      "\n"
     ]
    }
   ],
   "source": [
    "print(calendar.calendar(2020))"
   ]
  },
  {
   "cell_type": "code",
   "execution_count": 28,
   "metadata": {
    "ExecuteTime": {
     "end_time": "2020-09-24T13:48:39.714627Z",
     "start_time": "2020-09-24T13:48:39.694890Z"
    }
   },
   "outputs": [
    {
     "name": "stdout",
     "output_type": "stream",
     "text": [
      "2020-04-23\n",
      "<class 'datetime.date'>\n",
      "2020-04-23\n",
      "<class 'str'>\n"
     ]
    }
   ],
   "source": [
    "# to chane datetime format with the help of datetime module\n",
    "#First up is the ISO format. If you wanted to create a DateTime object from the string form of the date in ISO format, use the fromisoformat() method.\n",
    "#And if you intended to do the reverse, use the isoformat() method:\n",
    "\n",
    "d1_date= date.fromisoformat('2020-04-23')\n",
    "print(d1_date)\n",
    "print(type(d1_date))\n",
    "\n",
    "d2_date= date(2020,4,23).isoformat()\n",
    "print(d2_date)\n",
    "print(type(d2_date))"
   ]
  },
  {
   "cell_type": "code",
   "execution_count": 32,
   "metadata": {
    "ExecuteTime": {
     "end_time": "2020-09-24T15:38:44.185674Z",
     "start_time": "2020-09-24T15:38:44.180712Z"
    },
    "scrolled": false
   },
   "outputs": [
    {
     "name": "stdout",
     "output_type": "stream",
     "text": [
      "Thu Sep 24 21:08:44 2020\n",
      "Thu Sep 24\n"
     ]
    }
   ],
   "source": [
    "#date in string format\n",
    "d1= datetime.now()\n",
    "# string format for date \n",
    "print(d1.ctime())\n",
    "#slicing to extract date\n",
    "print(d1.ctime()[:10])"
   ]
  },
  {
   "cell_type": "code",
   "execution_count": 36,
   "metadata": {
    "ExecuteTime": {
     "end_time": "2020-09-24T15:44:12.321532Z",
     "start_time": "2020-09-24T15:44:12.316545Z"
    }
   },
   "outputs": [
    {
     "data": {
      "text/plain": [
       "'2020/04/23'"
      ]
     },
     "execution_count": 36,
     "metadata": {},
     "output_type": "execute_result"
    }
   ],
   "source": [
    "date(2020,4,23).__format__('%Y/%m/%d')"
   ]
  },
  {
   "cell_type": "code",
   "execution_count": 38,
   "metadata": {
    "ExecuteTime": {
     "end_time": "2020-09-24T15:46:30.635999Z",
     "start_time": "2020-09-24T15:46:30.629020Z"
    }
   },
   "outputs": [
    {
     "name": "stdout",
     "output_type": "stream",
     "text": [
      "2020-04-22 13:20:13\n",
      "<class 'datetime.datetime'>\n"
     ]
    }
   ],
   "source": [
    "# Advance datetime formatting with strptime and strftime\n",
    "# strptime() creates datetime object from a string representing date and time\n",
    "#it takes two argument:the date and the format in which your date is present\n",
    "\n",
    "date= '22 April, 2020 13:20:13'\n",
    "d1= datetime.strptime(date, '%d %B, %Y %H:%M:%S')\n",
    "print(d1)\n",
    "print(type(d1))"
   ]
  },
  {
   "cell_type": "code",
   "execution_count": 39,
   "metadata": {
    "ExecuteTime": {
     "end_time": "2020-09-24T15:57:24.565939Z",
     "start_time": "2020-09-24T15:57:24.558927Z"
    }
   },
   "outputs": [
    {
     "name": "stdout",
     "output_type": "stream",
     "text": [
      "datetime object: 2020-09-24 21:27:24.561918\n",
      "formatted date: 24092020 21:27\n",
      "<class 'str'>\n"
     ]
    }
   ],
   "source": [
    "#strtime() can be used to convert datetime object into a string \n",
    "d2= datetime.now()\n",
    "print('datetime object:',d2)\n",
    "\n",
    "new_date= d2.strftime('%d%m%Y %H:%M')\n",
    "print('formatted date:', new_date)\n",
    "print(type(new_date))"
   ]
  },
  {
   "cell_type": "code",
   "execution_count": 41,
   "metadata": {
    "ExecuteTime": {
     "end_time": "2020-09-24T16:01:30.034058Z",
     "start_time": "2020-09-24T16:01:30.028075Z"
    }
   },
   "outputs": [
    {
     "name": "stdout",
     "output_type": "stream",
     "text": [
      "weekday:  Thursday\n",
      "month:  September\n",
      "week number:  38\n",
      "locale\"s date and time representation:  Thu Sep 24 21:31:30 2020\n"
     ]
    }
   ],
   "source": [
    "#we can also extract some important informATION FROM THE DATETIME OBJECT\n",
    "#like weekday name, month name, week number, etc\n",
    "\n",
    "d1= datetime.now()\n",
    "print('weekday: ', d1.strftime('%A'))\n",
    "print('month: ',d1.strftime('%B'))\n",
    "print('week number: ', d1.strftime('%W'))\n",
    "print('locale\"s date and time representation: ', d1.strftime('%c'))"
   ]
  },
  {
   "cell_type": "code",
   "execution_count": 43,
   "metadata": {
    "ExecuteTime": {
     "end_time": "2020-09-24T16:05:17.358966Z",
     "start_time": "2020-09-24T16:05:17.352982Z"
    }
   },
   "outputs": [
    {
     "name": "stdout",
     "output_type": "stream",
     "text": [
      "<class 'datetime.timedelta'>\n"
     ]
    },
    {
     "data": {
      "text/plain": [
       "datetime.timedelta(days=365, seconds=3600)"
      ]
     },
     "execution_count": 43,
     "metadata": {},
     "output_type": "execute_result"
    }
   ],
   "source": [
    "#Timedelta : duration between dates\n",
    "d1= datetime(2020,4,23,11,13,10)\n",
    "d2=datetime(2021,4,23,12,13,10)\n",
    "duration= d2-d1\n",
    "print(type(duration))\n",
    "duration\n"
   ]
  },
  {
   "cell_type": "code",
   "execution_count": 44,
   "metadata": {
    "ExecuteTime": {
     "end_time": "2020-09-24T16:05:45.085898Z",
     "start_time": "2020-09-24T16:05:45.079914Z"
    }
   },
   "outputs": [
    {
     "name": "stdout",
     "output_type": "stream",
     "text": [
      "365\n",
      "3600\n"
     ]
    }
   ],
   "source": [
    "print(duration.days)\n",
    "print(duration.seconds)"
   ]
  },
  {
   "cell_type": "code",
   "execution_count": 45,
   "metadata": {
    "ExecuteTime": {
     "end_time": "2020-09-24T16:09:16.052330Z",
     "start_time": "2020-09-24T16:09:16.031394Z"
    }
   },
   "outputs": [
    {
     "name": "stdout",
     "output_type": "stream",
     "text": [
      "duration in hours:  8761.0\n",
      "duration in minutes:  525660.0\n",
      "duration in seconds:  31539600.0\n"
     ]
    }
   ],
   "source": [
    "#duration in hours and minutes\n",
    "from datetime import timedelta\n",
    "#duration in hours\n",
    "print('duration in hours: ', duration/timedelta(hours=1))\n",
    "#duration in minutes\n",
    "print('duration in minutes: ', duration/timedelta(minutes=1))\n",
    "#duration in seconds\n",
    "print('duration in seconds: ', duration/timedelta(seconds=1))"
   ]
  },
  {
   "cell_type": "code",
   "execution_count": 48,
   "metadata": {
    "ExecuteTime": {
     "end_time": "2020-09-25T05:24:55.554452Z",
     "start_time": "2020-09-25T05:24:55.545477Z"
    }
   },
   "outputs": [
    {
     "name": "stdout",
     "output_type": "stream",
     "text": [
      "date 2 days from today:  2020-09-27 10:54:55.548468\n",
      "date 2 week from today : 2020-10-09 10:54:55.548468\n"
     ]
    }
   ],
   "source": [
    "d1= datetime.now()\n",
    "d2= d1+timedelta(days=2)\n",
    "print('date 2 days from today: ', d2)\n",
    "\n",
    "d3= d1+timedelta(weeks=2)\n",
    "print('date 2 week from today :', d3)"
   ]
  },
  {
   "cell_type": "code",
   "execution_count": 50,
   "metadata": {
    "ExecuteTime": {
     "end_time": "2020-09-25T05:29:14.941644Z",
     "start_time": "2020-09-25T05:29:13.776139Z"
    }
   },
   "outputs": [
    {
     "name": "stdout",
     "output_type": "stream",
     "text": [
      "2020-04-24 00:00:00\n",
      "<class 'pandas._libs.tslibs.timestamps.Timestamp'>\n"
     ]
    }
   ],
   "source": [
    "import pandas as pd\n",
    "#to_datetime() method converts the date and time in string format to a DAte time object\n",
    "date= pd.to_datetime('24th of April, 2020')\n",
    "print(date)\n",
    "print(type(date))"
   ]
  },
  {
   "cell_type": "code",
   "execution_count": 53,
   "metadata": {
    "ExecuteTime": {
     "end_time": "2020-09-25T05:34:38.442230Z",
     "start_time": "2020-09-25T05:34:38.436244Z"
    }
   },
   "outputs": [
    {
     "name": "stdout",
     "output_type": "stream",
     "text": [
      "2020-09-26 11:04:38.438274\n",
      "2020-10-02 11:04:38.438274\n"
     ]
    }
   ],
   "source": [
    "#t0_timedelta\n",
    "import numpy as np\n",
    "date= datetime.now()\n",
    "#date after 1 day\n",
    "print(date+pd.to_timedelta(1,unit='D'))\n",
    "#date after 1 month\n",
    "print(date+pd.to_timedelta(1,unit='W'))"
   ]
  },
  {
   "cell_type": "code",
   "execution_count": 54,
   "metadata": {
    "ExecuteTime": {
     "end_time": "2020-09-25T05:40:58.416755Z",
     "start_time": "2020-09-25T05:40:58.404772Z"
    }
   },
   "outputs": [
    {
     "data": {
      "text/plain": [
       "DatetimeIndex(['2020-04-24', '2020-04-25', '2020-04-26', '2020-04-27',\n",
       "               '2020-04-28', '2020-04-29', '2020-04-30', '2020-05-01',\n",
       "               '2020-05-02', '2020-05-03', '2020-05-04', '2020-05-05',\n",
       "               '2020-05-06', '2020-05-07', '2020-05-08', '2020-05-09',\n",
       "               '2020-05-10', '2020-05-11', '2020-05-12', '2020-05-13',\n",
       "               '2020-05-14', '2020-05-15', '2020-05-16', '2020-05-17',\n",
       "               '2020-05-18', '2020-05-19', '2020-05-20', '2020-05-21',\n",
       "               '2020-05-22', '2020-05-23', '2020-05-24'],\n",
       "              dtype='datetime64[ns]', freq='D')"
      ]
     },
     "execution_count": 54,
     "metadata": {},
     "output_type": "execute_result"
    }
   ],
   "source": [
    "#DATA RANGE\n",
    "pd.date_range(start='24/4/2020',end='24/5,2020', freq='D')"
   ]
  },
  {
   "cell_type": "code",
   "execution_count": 55,
   "metadata": {
    "ExecuteTime": {
     "end_time": "2020-09-25T05:43:19.195402Z",
     "start_time": "2020-09-25T05:43:19.183436Z"
    }
   },
   "outputs": [
    {
     "data": {
      "text/plain": [
       "DatetimeIndex(['2020-09-25 11:13:19.185430', '2020-09-25 11:14:19.185430',\n",
       "               '2020-09-25 11:15:19.185430', '2020-09-25 11:16:19.185430',\n",
       "               '2020-09-25 11:17:19.185430'],\n",
       "              dtype='datetime64[ns]', freq='T')"
      ]
     },
     "execution_count": 55,
     "metadata": {},
     "output_type": "execute_result"
    }
   ],
   "source": [
    "#INSTEAD OF DEFINING END DATE, YOU COULD DEFINE PERIOD OR NUMBER OF TIME PERIODS YOU WANT TO GENERATE:\n",
    "from datetime import datetime\n",
    "start_date= datetime.today()\n",
    "dates_start=pd.date_range(start= start_date, periods= 10, freq='T')\n",
    "dates_start[:5]"
   ]
  },
  {
   "cell_type": "code",
   "execution_count": 56,
   "metadata": {
    "ExecuteTime": {
     "end_time": "2020-09-25T05:47:44.247022Z",
     "start_time": "2020-09-25T05:47:44.241049Z"
    }
   },
   "outputs": [
    {
     "data": {
      "text/plain": [
       "DatetimeIndex(['2020-09-25 11:13:19.185430', '2020-09-26 11:13:19.185430',\n",
       "               '2020-09-27 11:13:19.185430', '2020-09-28 11:13:19.185430',\n",
       "               '2020-09-29 11:13:19.185430'],\n",
       "              dtype='datetime64[ns]', freq='D')"
      ]
     },
     "execution_count": 56,
     "metadata": {},
     "output_type": "execute_result"
    }
   ],
   "source": [
    "end_date= pd.date_range(start= start_date, periods= 10, freq='D')\n",
    "end_date[:5]"
   ]
  },
  {
   "cell_type": "code",
   "execution_count": 57,
   "metadata": {
    "ExecuteTime": {
     "end_time": "2020-09-25T05:50:23.302653Z",
     "start_time": "2020-09-25T05:50:23.283734Z"
    }
   },
   "outputs": [
    {
     "data": {
      "text/html": [
       "<div>\n",
       "<style scoped>\n",
       "    .dataframe tbody tr th:only-of-type {\n",
       "        vertical-align: middle;\n",
       "    }\n",
       "\n",
       "    .dataframe tbody tr th {\n",
       "        vertical-align: top;\n",
       "    }\n",
       "\n",
       "    .dataframe thead th {\n",
       "        text-align: right;\n",
       "    }\n",
       "</style>\n",
       "<table border=\"1\" class=\"dataframe\">\n",
       "  <thead>\n",
       "    <tr style=\"text-align: right;\">\n",
       "      <th></th>\n",
       "      <th>start_date</th>\n",
       "      <th>End_dates</th>\n",
       "      <th>target</th>\n",
       "    </tr>\n",
       "  </thead>\n",
       "  <tbody>\n",
       "    <tr>\n",
       "      <th>0</th>\n",
       "      <td>2020-09-25 11:13:19.185430</td>\n",
       "      <td>2020-09-25 11:13:19.185430</td>\n",
       "      <td>1</td>\n",
       "    </tr>\n",
       "    <tr>\n",
       "      <th>1</th>\n",
       "      <td>2020-09-25 11:14:19.185430</td>\n",
       "      <td>2020-09-26 11:13:19.185430</td>\n",
       "      <td>1</td>\n",
       "    </tr>\n",
       "    <tr>\n",
       "      <th>2</th>\n",
       "      <td>2020-09-25 11:15:19.185430</td>\n",
       "      <td>2020-09-27 11:13:19.185430</td>\n",
       "      <td>1</td>\n",
       "    </tr>\n",
       "    <tr>\n",
       "      <th>3</th>\n",
       "      <td>2020-09-25 11:16:19.185430</td>\n",
       "      <td>2020-09-28 11:13:19.185430</td>\n",
       "      <td>1</td>\n",
       "    </tr>\n",
       "    <tr>\n",
       "      <th>4</th>\n",
       "      <td>2020-09-25 11:17:19.185430</td>\n",
       "      <td>2020-09-29 11:13:19.185430</td>\n",
       "      <td>1</td>\n",
       "    </tr>\n",
       "  </tbody>\n",
       "</table>\n",
       "</div>"
      ],
      "text/plain": [
       "                  start_date                  End_dates  target\n",
       "0 2020-09-25 11:13:19.185430 2020-09-25 11:13:19.185430       1\n",
       "1 2020-09-25 11:14:19.185430 2020-09-26 11:13:19.185430       1\n",
       "2 2020-09-25 11:15:19.185430 2020-09-27 11:13:19.185430       1\n",
       "3 2020-09-25 11:16:19.185430 2020-09-28 11:13:19.185430       1\n",
       "4 2020-09-25 11:17:19.185430 2020-09-29 11:13:19.185430       1"
      ]
     },
     "execution_count": 57,
     "metadata": {},
     "output_type": "execute_result"
    }
   ],
   "source": [
    "#making dataframe\n",
    "import random\n",
    "randomlist=[]\n",
    "for i in range(10):\n",
    "    randomlist.append(random.randint(0,1))\n",
    "    \n",
    "#dataframe\n",
    "df=pd.DataFrame()\n",
    "df['start_date']=dates_start\n",
    "df['End_dates']= end_date\n",
    "df['target']= randomlist\n",
    "df.head()"
   ]
  },
  {
   "cell_type": "code",
   "execution_count": 60,
   "metadata": {
    "ExecuteTime": {
     "end_time": "2020-09-25T05:54:22.192036Z",
     "start_time": "2020-09-25T05:54:22.183059Z"
    }
   },
   "outputs": [],
   "source": [
    "#now we can create multiple new features from the date column\n",
    "#day\n",
    "df['day']= df['start_date'].dt.day\n",
    "#dt.second\n",
    "#dt.minute\n",
    "#dt.weekday\n",
    "#dt.week\n",
    "#dt.minute\n",
    "#dt.year\n",
    "df['duration']= df['End_dates']-df['start_date']"
   ]
  },
  {
   "cell_type": "code",
   "execution_count": 61,
   "metadata": {
    "ExecuteTime": {
     "end_time": "2020-09-25T05:54:52.789147Z",
     "start_time": "2020-09-25T05:54:52.784163Z"
    }
   },
   "outputs": [],
   "source": [
    "df['duration_minutes']= df['duration']/timedelta(seconds=1)"
   ]
  },
  {
   "cell_type": "code",
   "execution_count": null,
   "metadata": {},
   "outputs": [],
   "source": []
  }
 ],
 "metadata": {
  "kernelspec": {
   "display_name": "Python 3",
   "language": "python",
   "name": "python3"
  },
  "language_info": {
   "codemirror_mode": {
    "name": "ipython",
    "version": 3
   },
   "file_extension": ".py",
   "mimetype": "text/x-python",
   "name": "python",
   "nbconvert_exporter": "python",
   "pygments_lexer": "ipython3",
   "version": "3.7.6"
  },
  "varInspector": {
   "cols": {
    "lenName": 16,
    "lenType": 16,
    "lenVar": 40
   },
   "kernels_config": {
    "python": {
     "delete_cmd_postfix": "",
     "delete_cmd_prefix": "del ",
     "library": "var_list.py",
     "varRefreshCmd": "print(var_dic_list())"
    },
    "r": {
     "delete_cmd_postfix": ") ",
     "delete_cmd_prefix": "rm(",
     "library": "var_list.r",
     "varRefreshCmd": "cat(var_dic_list()) "
    }
   },
   "types_to_exclude": [
    "module",
    "function",
    "builtin_function_or_method",
    "instance",
    "_Feature"
   ],
   "window_display": false
  }
 },
 "nbformat": 4,
 "nbformat_minor": 4
}
