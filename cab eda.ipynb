{
 "cells": [
  {
   "cell_type": "code",
   "execution_count": 75,
   "metadata": {
    "ExecuteTime": {
     "end_time": "2020-09-30T07:17:54.716799Z",
     "start_time": "2020-09-30T07:17:54.710816Z"
    }
   },
   "outputs": [],
   "source": [
    "import pandas as pd\n",
    "import numpy as np\n",
    "import seaborn as sns\n",
    "import matplotlib.pyplot as plt\n",
    "\n",
    "%matplotlib inline"
   ]
  },
  {
   "cell_type": "code",
   "execution_count": 76,
   "metadata": {
    "ExecuteTime": {
     "end_time": "2020-09-30T07:17:55.049917Z",
     "start_time": "2020-09-30T07:17:55.029969Z"
    }
   },
   "outputs": [
    {
     "data": {
      "text/html": [
       "<div>\n",
       "<style scoped>\n",
       "    .dataframe tbody tr th:only-of-type {\n",
       "        vertical-align: middle;\n",
       "    }\n",
       "\n",
       "    .dataframe tbody tr th {\n",
       "        vertical-align: top;\n",
       "    }\n",
       "\n",
       "    .dataframe thead th {\n",
       "        text-align: right;\n",
       "    }\n",
       "</style>\n",
       "<table border=\"1\" class=\"dataframe\">\n",
       "  <thead>\n",
       "    <tr style=\"text-align: right;\">\n",
       "      <th></th>\n",
       "      <th>START_DATE*</th>\n",
       "      <th>END_DATE*</th>\n",
       "      <th>CATEGORY*</th>\n",
       "      <th>START*</th>\n",
       "      <th>STOP*</th>\n",
       "      <th>MILES*</th>\n",
       "      <th>PURPOSE*</th>\n",
       "    </tr>\n",
       "  </thead>\n",
       "  <tbody>\n",
       "    <tr>\n",
       "      <th>0</th>\n",
       "      <td>1/1/2016 21:11</td>\n",
       "      <td>1/1/2016 21:17</td>\n",
       "      <td>Business</td>\n",
       "      <td>Fort Pierce</td>\n",
       "      <td>Fort Pierce</td>\n",
       "      <td>5.1</td>\n",
       "      <td>Meal/Entertain</td>\n",
       "    </tr>\n",
       "    <tr>\n",
       "      <th>1</th>\n",
       "      <td>1/2/2016 1:25</td>\n",
       "      <td>1/2/2016 1:37</td>\n",
       "      <td>Business</td>\n",
       "      <td>Fort Pierce</td>\n",
       "      <td>Fort Pierce</td>\n",
       "      <td>5.0</td>\n",
       "      <td>NaN</td>\n",
       "    </tr>\n",
       "    <tr>\n",
       "      <th>2</th>\n",
       "      <td>1/2/2016 20:25</td>\n",
       "      <td>1/2/2016 20:38</td>\n",
       "      <td>Business</td>\n",
       "      <td>Fort Pierce</td>\n",
       "      <td>Fort Pierce</td>\n",
       "      <td>4.8</td>\n",
       "      <td>Errand/Supplies</td>\n",
       "    </tr>\n",
       "    <tr>\n",
       "      <th>3</th>\n",
       "      <td>1/5/2016 17:31</td>\n",
       "      <td>1/5/2016 17:45</td>\n",
       "      <td>Business</td>\n",
       "      <td>Fort Pierce</td>\n",
       "      <td>Fort Pierce</td>\n",
       "      <td>4.7</td>\n",
       "      <td>Meeting</td>\n",
       "    </tr>\n",
       "    <tr>\n",
       "      <th>4</th>\n",
       "      <td>1/6/2016 14:42</td>\n",
       "      <td>1/6/2016 15:49</td>\n",
       "      <td>Business</td>\n",
       "      <td>Fort Pierce</td>\n",
       "      <td>West Palm Beach</td>\n",
       "      <td>63.7</td>\n",
       "      <td>Customer Visit</td>\n",
       "    </tr>\n",
       "    <tr>\n",
       "      <th>5</th>\n",
       "      <td>1/6/2016 17:15</td>\n",
       "      <td>1/6/2016 17:19</td>\n",
       "      <td>Business</td>\n",
       "      <td>West Palm Beach</td>\n",
       "      <td>West Palm Beach</td>\n",
       "      <td>4.3</td>\n",
       "      <td>Meal/Entertain</td>\n",
       "    </tr>\n",
       "    <tr>\n",
       "      <th>6</th>\n",
       "      <td>1/6/2016 17:30</td>\n",
       "      <td>1/6/2016 17:35</td>\n",
       "      <td>Business</td>\n",
       "      <td>West Palm Beach</td>\n",
       "      <td>Palm Beach</td>\n",
       "      <td>7.1</td>\n",
       "      <td>Meeting</td>\n",
       "    </tr>\n",
       "    <tr>\n",
       "      <th>7</th>\n",
       "      <td>1/7/2016 13:27</td>\n",
       "      <td>1/7/2016 13:33</td>\n",
       "      <td>Business</td>\n",
       "      <td>Cary</td>\n",
       "      <td>Cary</td>\n",
       "      <td>0.8</td>\n",
       "      <td>Meeting</td>\n",
       "    </tr>\n",
       "    <tr>\n",
       "      <th>8</th>\n",
       "      <td>1/10/2016 8:05</td>\n",
       "      <td>1/10/2016 8:25</td>\n",
       "      <td>Business</td>\n",
       "      <td>Cary</td>\n",
       "      <td>Morrisville</td>\n",
       "      <td>8.3</td>\n",
       "      <td>Meeting</td>\n",
       "    </tr>\n",
       "    <tr>\n",
       "      <th>9</th>\n",
       "      <td>1/10/2016 12:17</td>\n",
       "      <td>1/10/2016 12:44</td>\n",
       "      <td>Business</td>\n",
       "      <td>Jamaica</td>\n",
       "      <td>New York</td>\n",
       "      <td>16.5</td>\n",
       "      <td>Customer Visit</td>\n",
       "    </tr>\n",
       "  </tbody>\n",
       "</table>\n",
       "</div>"
      ],
      "text/plain": [
       "       START_DATE*        END_DATE* CATEGORY*           START*  \\\n",
       "0   1/1/2016 21:11   1/1/2016 21:17  Business      Fort Pierce   \n",
       "1    1/2/2016 1:25    1/2/2016 1:37  Business      Fort Pierce   \n",
       "2   1/2/2016 20:25   1/2/2016 20:38  Business      Fort Pierce   \n",
       "3   1/5/2016 17:31   1/5/2016 17:45  Business      Fort Pierce   \n",
       "4   1/6/2016 14:42   1/6/2016 15:49  Business      Fort Pierce   \n",
       "5   1/6/2016 17:15   1/6/2016 17:19  Business  West Palm Beach   \n",
       "6   1/6/2016 17:30   1/6/2016 17:35  Business  West Palm Beach   \n",
       "7   1/7/2016 13:27   1/7/2016 13:33  Business             Cary   \n",
       "8   1/10/2016 8:05   1/10/2016 8:25  Business             Cary   \n",
       "9  1/10/2016 12:17  1/10/2016 12:44  Business          Jamaica   \n",
       "\n",
       "             STOP*  MILES*         PURPOSE*  \n",
       "0      Fort Pierce     5.1   Meal/Entertain  \n",
       "1      Fort Pierce     5.0              NaN  \n",
       "2      Fort Pierce     4.8  Errand/Supplies  \n",
       "3      Fort Pierce     4.7          Meeting  \n",
       "4  West Palm Beach    63.7   Customer Visit  \n",
       "5  West Palm Beach     4.3   Meal/Entertain  \n",
       "6       Palm Beach     7.1          Meeting  \n",
       "7             Cary     0.8          Meeting  \n",
       "8      Morrisville     8.3          Meeting  \n",
       "9         New York    16.5   Customer Visit  "
      ]
     },
     "execution_count": 76,
     "metadata": {},
     "output_type": "execute_result"
    }
   ],
   "source": [
    "#reading dataset\n",
    "data= pd.read_csv('Cab_Rides.csv')\n",
    "data.head(10)"
   ]
  },
  {
   "cell_type": "code",
   "execution_count": 77,
   "metadata": {
    "ExecuteTime": {
     "end_time": "2020-09-30T07:17:55.318200Z",
     "start_time": "2020-09-30T07:17:55.310221Z"
    },
    "scrolled": true
   },
   "outputs": [
    {
     "name": "stdout",
     "output_type": "stream",
     "text": [
      "<class 'pandas.core.frame.DataFrame'>\n",
      "RangeIndex: 1155 entries, 0 to 1154\n",
      "Data columns (total 7 columns):\n",
      " #   Column       Non-Null Count  Dtype  \n",
      "---  ------       --------------  -----  \n",
      " 0   START_DATE*  1155 non-null   object \n",
      " 1   END_DATE*    1155 non-null   object \n",
      " 2   CATEGORY*    1155 non-null   object \n",
      " 3   START*       1155 non-null   object \n",
      " 4   STOP*        1155 non-null   object \n",
      " 5   MILES*       1155 non-null   float64\n",
      " 6   PURPOSE*     653 non-null    object \n",
      "dtypes: float64(1), object(6)\n",
      "memory usage: 63.3+ KB\n"
     ]
    }
   ],
   "source": [
    "#taking info of our data\n",
    "data.info()"
   ]
  },
  {
   "cell_type": "code",
   "execution_count": 78,
   "metadata": {
    "ExecuteTime": {
     "end_time": "2020-09-30T07:17:55.562073Z",
     "start_time": "2020-09-30T07:17:55.545116Z"
    }
   },
   "outputs": [
    {
     "data": {
      "text/plain": [
       "1"
      ]
     },
     "execution_count": 78,
     "metadata": {},
     "output_type": "execute_result"
    }
   ],
   "source": [
    "#checking duplicates\n",
    "data.duplicated().sum()"
   ]
  },
  {
   "cell_type": "code",
   "execution_count": 79,
   "metadata": {
    "ExecuteTime": {
     "end_time": "2020-09-30T07:17:55.812489Z",
     "start_time": "2020-09-30T07:17:55.803504Z"
    }
   },
   "outputs": [],
   "source": [
    "#dropping duplicates\n",
    "data= data.drop_duplicates()"
   ]
  },
  {
   "cell_type": "code",
   "execution_count": 80,
   "metadata": {
    "ExecuteTime": {
     "end_time": "2020-09-30T07:17:56.090319Z",
     "start_time": "2020-09-30T07:17:56.081343Z"
    }
   },
   "outputs": [
    {
     "data": {
      "text/plain": [
       "START_DATE*     0.000000\n",
       "END_DATE*       0.000000\n",
       "CATEGORY*       0.000000\n",
       "START*          0.000000\n",
       "STOP*           0.000000\n",
       "MILES*          0.000000\n",
       "PURPOSE*       43.500867\n",
       "dtype: float64"
      ]
     },
     "execution_count": 80,
     "metadata": {},
     "output_type": "execute_result"
    }
   ],
   "source": [
    "data.isnull().sum()/len(data) *100\n",
    "\n",
    "#43% of data is missing from purpose feature"
   ]
  },
  {
   "cell_type": "code",
   "execution_count": 81,
   "metadata": {
    "ExecuteTime": {
     "end_time": "2020-09-30T07:17:56.375555Z",
     "start_time": "2020-09-30T07:17:56.366580Z"
    }
   },
   "outputs": [
    {
     "data": {
      "text/plain": [
       "Index(['start_date', 'end_date', 'category', 'start', 'stop', 'miles'], dtype='object')"
      ]
     },
     "execution_count": 81,
     "metadata": {},
     "output_type": "execute_result"
    }
   ],
   "source": [
    "# I am going to change feature names of our dataset\n",
    "\n",
    "data.rename(columns= {'START_DATE*': 'start_date',\n",
    "                     'END_DATE*':'end_date',\n",
    "                     'CATEGORY*':'category',\n",
    "                     'START*':'start',\n",
    "                     'STOP*':'stop',\n",
    "                     'MILES*':'miles',\n",
    "                     'PURPOSE*':'purpose'}, inplace= True)\n",
    "\n",
    "data.iloc[:,:-1].columns"
   ]
  },
  {
   "cell_type": "code",
   "execution_count": 82,
   "metadata": {
    "ExecuteTime": {
     "end_time": "2020-09-30T07:17:56.645864Z",
     "start_time": "2020-09-30T07:17:56.642841Z"
    }
   },
   "outputs": [],
   "source": [
    "#importing some important libraries\n",
    "from datetime import datetime\n",
    "from datetime import date\n",
    "from datetime import time"
   ]
  },
  {
   "cell_type": "markdown",
   "metadata": {},
   "source": [
    "### converting data types of start and end features into datetime object"
   ]
  },
  {
   "cell_type": "code",
   "execution_count": 83,
   "metadata": {
    "ExecuteTime": {
     "end_time": "2020-09-30T07:17:57.262366Z",
     "start_time": "2020-09-30T07:17:57.134533Z"
    }
   },
   "outputs": [],
   "source": [
    "#start_date\n",
    "data['start_date']= pd.to_datetime(data['start_date'])"
   ]
  },
  {
   "cell_type": "code",
   "execution_count": 84,
   "metadata": {
    "ExecuteTime": {
     "end_time": "2020-09-30T07:17:57.574280Z",
     "start_time": "2020-09-30T07:17:57.433619Z"
    }
   },
   "outputs": [
    {
     "data": {
      "text/plain": [
       "0   2016-01-01 21:17:00\n",
       "1   2016-01-02 01:37:00\n",
       "2   2016-01-02 20:38:00\n",
       "3   2016-01-05 17:45:00\n",
       "4   2016-01-06 15:49:00\n",
       "Name: end_date, dtype: datetime64[ns]"
      ]
     },
     "execution_count": 84,
     "metadata": {},
     "output_type": "execute_result"
    }
   ],
   "source": [
    "#end_date\n",
    "data['end_date']= pd.to_datetime(data['end_date'])\n",
    "data['end_date'].head()"
   ]
  },
  {
   "cell_type": "code",
   "execution_count": 85,
   "metadata": {
    "ExecuteTime": {
     "end_time": "2020-09-30T07:17:57.682959Z",
     "start_time": "2020-09-30T07:17:57.677972Z"
    }
   },
   "outputs": [
    {
     "data": {
      "text/plain": [
       "start_date    datetime64[ns]\n",
       "end_date      datetime64[ns]\n",
       "category              object\n",
       "start                 object\n",
       "stop                  object\n",
       "miles                float64\n",
       "purpose               object\n",
       "dtype: object"
      ]
     },
     "execution_count": 85,
     "metadata": {},
     "output_type": "execute_result"
    }
   ],
   "source": [
    "# checking dtypes of features to get extra sure\n",
    "data.dtypes"
   ]
  },
  {
   "cell_type": "code",
   "execution_count": 86,
   "metadata": {
    "ExecuteTime": {
     "end_time": "2020-09-30T07:17:57.962786Z",
     "start_time": "2020-09-30T07:17:57.959827Z"
    }
   },
   "outputs": [],
   "source": [
    "## I have calculated durations in "
   ]
  },
  {
   "cell_type": "code",
   "execution_count": 87,
   "metadata": {
    "ExecuteTime": {
     "end_time": "2020-09-30T07:17:58.243043Z",
     "start_time": "2020-09-30T07:17:58.235058Z"
    }
   },
   "outputs": [],
   "source": [
    "from datetime import timedelta\n",
    "data['duaration_in_sec']= (data['end_date']-data['start_date'])/timedelta(seconds=1)"
   ]
  },
  {
   "cell_type": "code",
   "execution_count": 88,
   "metadata": {
    "ExecuteTime": {
     "end_time": "2020-09-30T07:17:58.537250Z",
     "start_time": "2020-09-30T07:17:58.534258Z"
    }
   },
   "outputs": [],
   "source": [
    "#data['duration_in_min']= (data['end_date']-data['start_date'])/timedelta(minutes=1)"
   ]
  },
  {
   "cell_type": "code",
   "execution_count": 89,
   "metadata": {
    "ExecuteTime": {
     "end_time": "2020-09-30T07:17:58.871355Z",
     "start_time": "2020-09-30T07:17:58.850412Z"
    }
   },
   "outputs": [
    {
     "data": {
      "text/html": [
       "<div>\n",
       "<style scoped>\n",
       "    .dataframe tbody tr th:only-of-type {\n",
       "        vertical-align: middle;\n",
       "    }\n",
       "\n",
       "    .dataframe tbody tr th {\n",
       "        vertical-align: top;\n",
       "    }\n",
       "\n",
       "    .dataframe thead th {\n",
       "        text-align: right;\n",
       "    }\n",
       "</style>\n",
       "<table border=\"1\" class=\"dataframe\">\n",
       "  <thead>\n",
       "    <tr style=\"text-align: right;\">\n",
       "      <th></th>\n",
       "      <th>start_date</th>\n",
       "      <th>end_date</th>\n",
       "      <th>category</th>\n",
       "      <th>start</th>\n",
       "      <th>stop</th>\n",
       "      <th>miles</th>\n",
       "      <th>purpose</th>\n",
       "      <th>duaration_in_sec</th>\n",
       "    </tr>\n",
       "  </thead>\n",
       "  <tbody>\n",
       "    <tr>\n",
       "      <th>0</th>\n",
       "      <td>2016-01-01 21:11:00</td>\n",
       "      <td>2016-01-01 21:17:00</td>\n",
       "      <td>Business</td>\n",
       "      <td>Fort Pierce</td>\n",
       "      <td>Fort Pierce</td>\n",
       "      <td>5.1</td>\n",
       "      <td>Meal/Entertain</td>\n",
       "      <td>360.0</td>\n",
       "    </tr>\n",
       "    <tr>\n",
       "      <th>1</th>\n",
       "      <td>2016-01-02 01:25:00</td>\n",
       "      <td>2016-01-02 01:37:00</td>\n",
       "      <td>Business</td>\n",
       "      <td>Fort Pierce</td>\n",
       "      <td>Fort Pierce</td>\n",
       "      <td>5.0</td>\n",
       "      <td>NaN</td>\n",
       "      <td>720.0</td>\n",
       "    </tr>\n",
       "    <tr>\n",
       "      <th>2</th>\n",
       "      <td>2016-01-02 20:25:00</td>\n",
       "      <td>2016-01-02 20:38:00</td>\n",
       "      <td>Business</td>\n",
       "      <td>Fort Pierce</td>\n",
       "      <td>Fort Pierce</td>\n",
       "      <td>4.8</td>\n",
       "      <td>Errand/Supplies</td>\n",
       "      <td>780.0</td>\n",
       "    </tr>\n",
       "    <tr>\n",
       "      <th>3</th>\n",
       "      <td>2016-01-05 17:31:00</td>\n",
       "      <td>2016-01-05 17:45:00</td>\n",
       "      <td>Business</td>\n",
       "      <td>Fort Pierce</td>\n",
       "      <td>Fort Pierce</td>\n",
       "      <td>4.7</td>\n",
       "      <td>Meeting</td>\n",
       "      <td>840.0</td>\n",
       "    </tr>\n",
       "    <tr>\n",
       "      <th>4</th>\n",
       "      <td>2016-01-06 14:42:00</td>\n",
       "      <td>2016-01-06 15:49:00</td>\n",
       "      <td>Business</td>\n",
       "      <td>Fort Pierce</td>\n",
       "      <td>West Palm Beach</td>\n",
       "      <td>63.7</td>\n",
       "      <td>Customer Visit</td>\n",
       "      <td>4020.0</td>\n",
       "    </tr>\n",
       "  </tbody>\n",
       "</table>\n",
       "</div>"
      ],
      "text/plain": [
       "           start_date            end_date  category        start  \\\n",
       "0 2016-01-01 21:11:00 2016-01-01 21:17:00  Business  Fort Pierce   \n",
       "1 2016-01-02 01:25:00 2016-01-02 01:37:00  Business  Fort Pierce   \n",
       "2 2016-01-02 20:25:00 2016-01-02 20:38:00  Business  Fort Pierce   \n",
       "3 2016-01-05 17:31:00 2016-01-05 17:45:00  Business  Fort Pierce   \n",
       "4 2016-01-06 14:42:00 2016-01-06 15:49:00  Business  Fort Pierce   \n",
       "\n",
       "              stop  miles          purpose  duaration_in_sec  \n",
       "0      Fort Pierce    5.1   Meal/Entertain             360.0  \n",
       "1      Fort Pierce    5.0              NaN             720.0  \n",
       "2      Fort Pierce    4.8  Errand/Supplies             780.0  \n",
       "3      Fort Pierce    4.7          Meeting             840.0  \n",
       "4  West Palm Beach   63.7   Customer Visit            4020.0  "
      ]
     },
     "execution_count": 89,
     "metadata": {},
     "output_type": "execute_result"
    }
   ],
   "source": [
    "data.head()"
   ]
  },
  {
   "cell_type": "code",
   "execution_count": 90,
   "metadata": {
    "ExecuteTime": {
     "end_time": "2020-09-30T07:17:59.173166Z",
     "start_time": "2020-09-30T07:17:59.153674Z"
    }
   },
   "outputs": [],
   "source": [
    "# start_date\n",
    "data['st_hour']= data['start_date'].dt.hour #extracting at what hour of the day ride started\n",
    "data['st_day']= data['start_date'].dt.day  \n",
    "data['st_month']= data['start_date'].dt.month  \n",
    "\n",
    "data['st_week']= data['start_date'].dt.week  \n",
    "data['st_weekday']= data['start_date'].dt.weekday  #extracting on what day of the week ride started(mon,thus,fri,sat...)"
   ]
  },
  {
   "cell_type": "code",
   "execution_count": 91,
   "metadata": {
    "ExecuteTime": {
     "end_time": "2020-09-30T07:17:59.394550Z",
     "start_time": "2020-09-30T07:17:59.388566Z"
    }
   },
   "outputs": [],
   "source": [
    "#end_date\n",
    "data['ed_hour']= data['end_date'].dt.hour\n",
    "data['ed_day']= data['end_date'].dt.day\n",
    "#data['ed_month']= data['end_date'].dt.month\n",
    "\n",
    "#data['ed_week']= data['end_date'].dt.week\n",
    "#data['ed_weekday']= data['end_date'].dt.weekday"
   ]
  },
  {
   "cell_type": "code",
   "execution_count": 92,
   "metadata": {
    "ExecuteTime": {
     "end_time": "2020-09-30T07:17:59.697251Z",
     "start_time": "2020-09-30T07:17:59.689275Z"
    }
   },
   "outputs": [
    {
     "data": {
      "text/plain": [
       "count     1154.000000\n",
       "mean      1394.506066\n",
       "std       1639.804308\n",
       "min          0.000000\n",
       "25%        600.000000\n",
       "50%        960.000000\n",
       "75%       1665.000000\n",
       "max      20160.000000\n",
       "Name: duaration_in_sec, dtype: float64"
      ]
     },
     "execution_count": 92,
     "metadata": {},
     "output_type": "execute_result"
    }
   ],
   "source": [
    "# SOMETHING INTRESTING TO NOTICE\n",
    "\n",
    "data['duaration_in_sec'].describe()\n",
    "\n",
    "# min value for duration in sec is 0, let us get some more insights!"
   ]
  },
  {
   "cell_type": "code",
   "execution_count": 93,
   "metadata": {
    "ExecuteTime": {
     "end_time": "2020-09-30T07:18:00.005428Z",
     "start_time": "2020-09-30T07:17:59.983487Z"
    }
   },
   "outputs": [
    {
     "data": {
      "text/html": [
       "<div>\n",
       "<style scoped>\n",
       "    .dataframe tbody tr th:only-of-type {\n",
       "        vertical-align: middle;\n",
       "    }\n",
       "\n",
       "    .dataframe tbody tr th {\n",
       "        vertical-align: top;\n",
       "    }\n",
       "\n",
       "    .dataframe thead th {\n",
       "        text-align: right;\n",
       "    }\n",
       "</style>\n",
       "<table border=\"1\" class=\"dataframe\">\n",
       "  <thead>\n",
       "    <tr style=\"text-align: right;\">\n",
       "      <th></th>\n",
       "      <th>start_date</th>\n",
       "      <th>end_date</th>\n",
       "      <th>category</th>\n",
       "      <th>start</th>\n",
       "      <th>stop</th>\n",
       "      <th>miles</th>\n",
       "      <th>purpose</th>\n",
       "      <th>duaration_in_sec</th>\n",
       "      <th>st_hour</th>\n",
       "      <th>st_day</th>\n",
       "      <th>st_month</th>\n",
       "      <th>st_week</th>\n",
       "      <th>st_weekday</th>\n",
       "      <th>ed_hour</th>\n",
       "      <th>ed_day</th>\n",
       "    </tr>\n",
       "  </thead>\n",
       "  <tbody>\n",
       "    <tr>\n",
       "      <th>751</th>\n",
       "      <td>2016-09-06 17:49:00</td>\n",
       "      <td>2016-09-06 17:49:00</td>\n",
       "      <td>Business</td>\n",
       "      <td>Unknown Location</td>\n",
       "      <td>Unknown Location</td>\n",
       "      <td>69.1</td>\n",
       "      <td>NaN</td>\n",
       "      <td>0.0</td>\n",
       "      <td>17</td>\n",
       "      <td>6</td>\n",
       "      <td>9</td>\n",
       "      <td>36</td>\n",
       "      <td>1</td>\n",
       "      <td>17</td>\n",
       "      <td>6</td>\n",
       "    </tr>\n",
       "    <tr>\n",
       "      <th>761</th>\n",
       "      <td>2016-09-16 07:08:00</td>\n",
       "      <td>2016-09-16 07:08:00</td>\n",
       "      <td>Business</td>\n",
       "      <td>Unknown Location</td>\n",
       "      <td>Unknown Location</td>\n",
       "      <td>1.6</td>\n",
       "      <td>NaN</td>\n",
       "      <td>0.0</td>\n",
       "      <td>7</td>\n",
       "      <td>16</td>\n",
       "      <td>9</td>\n",
       "      <td>37</td>\n",
       "      <td>4</td>\n",
       "      <td>7</td>\n",
       "      <td>16</td>\n",
       "    </tr>\n",
       "    <tr>\n",
       "      <th>798</th>\n",
       "      <td>2016-10-08 15:03:00</td>\n",
       "      <td>2016-10-08 15:03:00</td>\n",
       "      <td>Business</td>\n",
       "      <td>Karachi</td>\n",
       "      <td>Karachi</td>\n",
       "      <td>3.6</td>\n",
       "      <td>NaN</td>\n",
       "      <td>0.0</td>\n",
       "      <td>15</td>\n",
       "      <td>8</td>\n",
       "      <td>10</td>\n",
       "      <td>40</td>\n",
       "      <td>5</td>\n",
       "      <td>15</td>\n",
       "      <td>8</td>\n",
       "    </tr>\n",
       "    <tr>\n",
       "      <th>807</th>\n",
       "      <td>2016-10-13 13:02:00</td>\n",
       "      <td>2016-10-13 13:02:00</td>\n",
       "      <td>Business</td>\n",
       "      <td>Islamabad</td>\n",
       "      <td>Islamabad</td>\n",
       "      <td>0.7</td>\n",
       "      <td>NaN</td>\n",
       "      <td>0.0</td>\n",
       "      <td>13</td>\n",
       "      <td>13</td>\n",
       "      <td>10</td>\n",
       "      <td>41</td>\n",
       "      <td>3</td>\n",
       "      <td>13</td>\n",
       "      <td>13</td>\n",
       "    </tr>\n",
       "  </tbody>\n",
       "</table>\n",
       "</div>"
      ],
      "text/plain": [
       "             start_date            end_date  category             start  \\\n",
       "751 2016-09-06 17:49:00 2016-09-06 17:49:00  Business  Unknown Location   \n",
       "761 2016-09-16 07:08:00 2016-09-16 07:08:00  Business  Unknown Location   \n",
       "798 2016-10-08 15:03:00 2016-10-08 15:03:00  Business           Karachi   \n",
       "807 2016-10-13 13:02:00 2016-10-13 13:02:00  Business         Islamabad   \n",
       "\n",
       "                 stop  miles purpose  duaration_in_sec  st_hour  st_day  \\\n",
       "751  Unknown Location   69.1     NaN               0.0       17       6   \n",
       "761  Unknown Location    1.6     NaN               0.0        7      16   \n",
       "798           Karachi    3.6     NaN               0.0       15       8   \n",
       "807         Islamabad    0.7     NaN               0.0       13      13   \n",
       "\n",
       "     st_month  st_week  st_weekday  ed_hour  ed_day  \n",
       "751         9       36           1       17       6  \n",
       "761         9       37           4        7      16  \n",
       "798        10       40           5       15       8  \n",
       "807        10       41           3       13      13  "
      ]
     },
     "execution_count": 93,
     "metadata": {},
     "output_type": "execute_result"
    }
   ],
   "source": [
    "data[data['duaration_in_sec']==0]\n",
    "\n",
    "# there are 4 rides in our datasets which have same start and end datetime"
   ]
  },
  {
   "cell_type": "code",
   "execution_count": 94,
   "metadata": {
    "ExecuteTime": {
     "end_time": "2020-09-30T07:18:00.281082Z",
     "start_time": "2020-09-30T07:18:00.264735Z"
    }
   },
   "outputs": [
    {
     "data": {
      "text/html": [
       "<div>\n",
       "<style scoped>\n",
       "    .dataframe tbody tr th:only-of-type {\n",
       "        vertical-align: middle;\n",
       "    }\n",
       "\n",
       "    .dataframe tbody tr th {\n",
       "        vertical-align: top;\n",
       "    }\n",
       "\n",
       "    .dataframe thead th {\n",
       "        text-align: right;\n",
       "    }\n",
       "</style>\n",
       "<table border=\"1\" class=\"dataframe\">\n",
       "  <thead>\n",
       "    <tr style=\"text-align: right;\">\n",
       "      <th></th>\n",
       "      <th>start_date</th>\n",
       "      <th>end_date</th>\n",
       "      <th>category</th>\n",
       "      <th>start</th>\n",
       "      <th>stop</th>\n",
       "      <th>miles</th>\n",
       "      <th>purpose</th>\n",
       "      <th>duaration_in_sec</th>\n",
       "      <th>st_hour</th>\n",
       "      <th>st_day</th>\n",
       "      <th>st_month</th>\n",
       "      <th>st_week</th>\n",
       "      <th>st_weekday</th>\n",
       "      <th>ed_hour</th>\n",
       "      <th>ed_day</th>\n",
       "    </tr>\n",
       "  </thead>\n",
       "  <tbody>\n",
       "    <tr>\n",
       "      <th>776</th>\n",
       "      <td>2016-09-27 21:01:00</td>\n",
       "      <td>2016-09-28 02:37:00</td>\n",
       "      <td>Business</td>\n",
       "      <td>Unknown Location</td>\n",
       "      <td>Unknown Location</td>\n",
       "      <td>195.6</td>\n",
       "      <td>NaN</td>\n",
       "      <td>20160.0</td>\n",
       "      <td>21</td>\n",
       "      <td>27</td>\n",
       "      <td>9</td>\n",
       "      <td>39</td>\n",
       "      <td>1</td>\n",
       "      <td>2</td>\n",
       "      <td>28</td>\n",
       "    </tr>\n",
       "  </tbody>\n",
       "</table>\n",
       "</div>"
      ],
      "text/plain": [
       "             start_date            end_date  category             start  \\\n",
       "776 2016-09-27 21:01:00 2016-09-28 02:37:00  Business  Unknown Location   \n",
       "\n",
       "                 stop  miles purpose  duaration_in_sec  st_hour  st_day  \\\n",
       "776  Unknown Location  195.6     NaN           20160.0       21      27   \n",
       "\n",
       "     st_month  st_week  st_weekday  ed_hour  ed_day  \n",
       "776         9       39           1        2      28  "
      ]
     },
     "execution_count": 94,
     "metadata": {},
     "output_type": "execute_result"
    }
   ],
   "source": [
    "data[data['duaration_in_sec']==20160]    #336 minutes (5.6 HOURS)\n",
    "\n",
    "#max duration ride belongs to business category with 195.6 miles "
   ]
  },
  {
   "cell_type": "code",
   "execution_count": 95,
   "metadata": {
    "ExecuteTime": {
     "end_time": "2020-09-30T07:18:00.616203Z",
     "start_time": "2020-09-30T07:18:00.608209Z"
    }
   },
   "outputs": [
    {
     "data": {
      "text/plain": [
       "count    1154.000000\n",
       "mean       10.567418\n",
       "std        21.588452\n",
       "min         0.500000\n",
       "25%         2.900000\n",
       "50%         6.000000\n",
       "75%        10.400000\n",
       "max       310.300000\n",
       "Name: miles, dtype: float64"
      ]
     },
     "execution_count": 95,
     "metadata": {},
     "output_type": "execute_result"
    }
   ],
   "source": [
    "data.miles.describe().transpose()\n",
    "\n",
    "# smallest ride is of 0.5 miles and max 310 miles"
   ]
  },
  {
   "cell_type": "code",
   "execution_count": 96,
   "metadata": {
    "ExecuteTime": {
     "end_time": "2020-09-30T07:18:00.924373Z",
     "start_time": "2020-09-30T07:18:00.909405Z"
    }
   },
   "outputs": [
    {
     "data": {
      "text/html": [
       "<div>\n",
       "<style scoped>\n",
       "    .dataframe tbody tr th:only-of-type {\n",
       "        vertical-align: middle;\n",
       "    }\n",
       "\n",
       "    .dataframe tbody tr th {\n",
       "        vertical-align: top;\n",
       "    }\n",
       "\n",
       "    .dataframe thead th {\n",
       "        text-align: right;\n",
       "    }\n",
       "</style>\n",
       "<table border=\"1\" class=\"dataframe\">\n",
       "  <thead>\n",
       "    <tr style=\"text-align: right;\">\n",
       "      <th></th>\n",
       "      <th>start_date</th>\n",
       "      <th>end_date</th>\n",
       "      <th>category</th>\n",
       "      <th>start</th>\n",
       "      <th>stop</th>\n",
       "      <th>miles</th>\n",
       "      <th>purpose</th>\n",
       "      <th>duaration_in_sec</th>\n",
       "      <th>st_hour</th>\n",
       "      <th>st_day</th>\n",
       "      <th>st_month</th>\n",
       "      <th>st_week</th>\n",
       "      <th>st_weekday</th>\n",
       "      <th>ed_hour</th>\n",
       "      <th>ed_day</th>\n",
       "    </tr>\n",
       "  </thead>\n",
       "  <tbody>\n",
       "    <tr>\n",
       "      <th>269</th>\n",
       "      <td>2016-03-25 16:52:00</td>\n",
       "      <td>2016-03-25 22:22:00</td>\n",
       "      <td>Business</td>\n",
       "      <td>Latta</td>\n",
       "      <td>Jacksonville</td>\n",
       "      <td>310.3</td>\n",
       "      <td>Customer Visit</td>\n",
       "      <td>19800.0</td>\n",
       "      <td>16</td>\n",
       "      <td>25</td>\n",
       "      <td>3</td>\n",
       "      <td>12</td>\n",
       "      <td>4</td>\n",
       "      <td>22</td>\n",
       "      <td>25</td>\n",
       "    </tr>\n",
       "  </tbody>\n",
       "</table>\n",
       "</div>"
      ],
      "text/plain": [
       "             start_date            end_date  category  start          stop  \\\n",
       "269 2016-03-25 16:52:00 2016-03-25 22:22:00  Business  Latta  Jacksonville   \n",
       "\n",
       "     miles         purpose  duaration_in_sec  st_hour  st_day  st_month  \\\n",
       "269  310.3  Customer Visit           19800.0       16      25         3   \n",
       "\n",
       "     st_week  st_weekday  ed_hour  ed_day  \n",
       "269       12           4       22      25  "
      ]
     },
     "execution_count": 96,
     "metadata": {},
     "output_type": "execute_result"
    }
   ],
   "source": [
    "#extracting row from the dataset having max value of  miles \n",
    "\n",
    "data.loc[data.miles== 310.3]\n",
    "\n",
    "#here we can see that the longest ride comes under business category and purpose was customer visit, from Latta to Jacksonville"
   ]
  },
  {
   "cell_type": "code",
   "execution_count": 97,
   "metadata": {
    "ExecuteTime": {
     "end_time": "2020-09-30T07:18:01.452373Z",
     "start_time": "2020-09-30T07:18:01.446387Z"
    }
   },
   "outputs": [
    {
     "data": {
      "text/plain": [
       "(14, 15)"
      ]
     },
     "execution_count": 97,
     "metadata": {},
     "output_type": "execute_result"
    }
   ],
   "source": [
    "data[data.st_day != data.ed_day].shape\n",
    "\n",
    "# since duration of rides are no longer than 5.6 hours, therefore most of the rides start and end on the same day\n",
    "# But there are 14 such rides that do not have same start_date or end_date (it means ride do not end on the same day) bcoz they are actually starting late night"
   ]
  },
  {
   "cell_type": "code",
   "execution_count": 98,
   "metadata": {
    "ExecuteTime": {
     "end_time": "2020-09-30T07:18:01.952901Z",
     "start_time": "2020-09-30T07:18:01.810209Z"
    },
    "scrolled": true
   },
   "outputs": [
    {
     "data": {
      "text/plain": [
       "<matplotlib.axes._subplots.AxesSubplot at 0x23a29f81708>"
      ]
     },
     "execution_count": 98,
     "metadata": {},
     "output_type": "execute_result"
    },
    {
     "data": {
      "image/png": "[encoded data removed]",
      "text/plain": [
       "<Figure size 432x288 with 1 Axes>"
      ]
     },
     "metadata": {
      "needs_background": "light"
     },
     "output_type": "display_data"
    }
   ],
   "source": [
    "data.groupby('st_weekday')['st_weekday'].agg('count').plot(kind = 'bar')\n",
    "\n",
    "# we observe that number of rides are highest on the friday   "
   ]
  },
  {
   "cell_type": "code",
   "execution_count": 99,
   "metadata": {
    "ExecuteTime": {
     "end_time": "2020-09-30T07:18:02.357879Z",
     "start_time": "2020-09-30T07:18:02.154398Z"
    },
    "scrolled": false
   },
   "outputs": [
    {
     "data": {
      "text/plain": [
       "<matplotlib.axes._subplots.AxesSubplot at 0x23a2a01eec8>"
      ]
     },
     "execution_count": 99,
     "metadata": {},
     "output_type": "execute_result"
    },
    {
     "data": {
      "image/png": "[encoded data removed]",
      "text/plain": [
       "<Figure size 432x288 with 1 Axes>"
      ]
     },
     "metadata": {
      "needs_background": "light"
     },
     "output_type": "display_data"
    }
   ],
   "source": [
    "data.groupby('st_hour')['st_hour'].agg('count').plot(kind = 'bar')\n",
    "\n",
    "# from the graph we can observe that rushing hours are between 8.am to 12.pm"
   ]
  },
  {
   "cell_type": "code",
   "execution_count": 100,
   "metadata": {
    "ExecuteTime": {
     "end_time": "2020-09-30T07:18:02.671527Z",
     "start_time": "2020-09-30T07:18:02.520929Z"
    }
   },
   "outputs": [
    {
     "data": {
      "text/plain": [
       "<matplotlib.axes._subplots.AxesSubplot at 0x23a29ed5848>"
      ]
     },
     "execution_count": 100,
     "metadata": {},
     "output_type": "execute_result"
    },
    {
     "data": {
      "image/png": "[encoded data removed]",
      "text/plain": [
       "<Figure size 432x288 with 1 Axes>"
      ]
     },
     "metadata": {
      "needs_background": "light"
     },
     "output_type": "display_data"
    }
   ],
   "source": [
    "data.groupby('st_month')['st_month'].agg('count').plot(kind='bar')\n",
    "\n",
    "# minimum ride were taken in the month of september and max ride were taken in the month of december\n",
    "#we can observe kind of pattern in our graph"
   ]
  },
  {
   "cell_type": "code",
   "execution_count": 101,
   "metadata": {
    "ExecuteTime": {
     "end_time": "2020-09-30T07:18:02.869020Z",
     "start_time": "2020-09-30T07:18:02.863022Z"
    }
   },
   "outputs": [
    {
     "data": {
      "text/plain": [
       "array(['Business', 'Personal'], dtype=object)"
      ]
     },
     "execution_count": 101,
     "metadata": {},
     "output_type": "execute_result"
    }
   ],
   "source": [
    "# CATEGORY\n",
    "data.category.unique()"
   ]
  },
  {
   "cell_type": "code",
   "execution_count": 102,
   "metadata": {
    "ExecuteTime": {
     "end_time": "2020-09-30T07:18:03.345771Z",
     "start_time": "2020-09-30T07:18:03.207141Z"
    }
   },
   "outputs": [
    {
     "data": {
      "text/plain": [
       "' from below graph we can say that most of the rides lies under business category '"
      ]
     },
     "execution_count": 102,
     "metadata": {},
     "output_type": "execute_result"
    },
    {
     "data": {
      "image/png": "[encoded data removed]",
      "text/plain": [
       "<Figure size 432x288 with 1 Axes>"
      ]
     },
     "metadata": {
      "needs_background": "light"
     },
     "output_type": "display_data"
    }
   ],
   "source": [
    "sns.countplot(x= 'category', data= data, palette= 'rainbow', orient= 'v')\n",
    "\n",
    "\n",
    "''' from below graph we can say that most of the rides lies under business category '''"
   ]
  },
  {
   "cell_type": "code",
   "execution_count": 103,
   "metadata": {
    "ExecuteTime": {
     "end_time": "2020-09-30T07:18:03.548229Z",
     "start_time": "2020-09-30T07:18:03.529281Z"
    }
   },
   "outputs": [
    {
     "data": {
      "text/html": [
       "<div>\n",
       "<style scoped>\n",
       "    .dataframe tbody tr th:only-of-type {\n",
       "        vertical-align: middle;\n",
       "    }\n",
       "\n",
       "    .dataframe tbody tr th {\n",
       "        vertical-align: top;\n",
       "    }\n",
       "\n",
       "    .dataframe thead th {\n",
       "        text-align: right;\n",
       "    }\n",
       "</style>\n",
       "<table border=\"1\" class=\"dataframe\">\n",
       "  <thead>\n",
       "    <tr style=\"text-align: right;\">\n",
       "      <th></th>\n",
       "      <th></th>\n",
       "      <th>purpose</th>\n",
       "    </tr>\n",
       "    <tr>\n",
       "      <th>category</th>\n",
       "      <th>purpose</th>\n",
       "      <th></th>\n",
       "    </tr>\n",
       "  </thead>\n",
       "  <tbody>\n",
       "    <tr>\n",
       "      <th rowspan=\"7\" valign=\"top\">Business</th>\n",
       "      <th>Meeting</th>\n",
       "      <td>186</td>\n",
       "    </tr>\n",
       "    <tr>\n",
       "      <th>Meal/Entertain</th>\n",
       "      <td>160</td>\n",
       "    </tr>\n",
       "    <tr>\n",
       "      <th>Errand/Supplies</th>\n",
       "      <td>128</td>\n",
       "    </tr>\n",
       "    <tr>\n",
       "      <th>Customer Visit</th>\n",
       "      <td>101</td>\n",
       "    </tr>\n",
       "    <tr>\n",
       "      <th>Temporary Site</th>\n",
       "      <td>50</td>\n",
       "    </tr>\n",
       "    <tr>\n",
       "      <th>Between Offices</th>\n",
       "      <td>18</td>\n",
       "    </tr>\n",
       "    <tr>\n",
       "      <th>Airport/Travel</th>\n",
       "      <td>3</td>\n",
       "    </tr>\n",
       "    <tr>\n",
       "      <th rowspan=\"3\" valign=\"top\">Personal</th>\n",
       "      <th>Moving</th>\n",
       "      <td>4</td>\n",
       "    </tr>\n",
       "    <tr>\n",
       "      <th>Charity ($)</th>\n",
       "      <td>1</td>\n",
       "    </tr>\n",
       "    <tr>\n",
       "      <th>Commute</th>\n",
       "      <td>1</td>\n",
       "    </tr>\n",
       "  </tbody>\n",
       "</table>\n",
       "</div>"
      ],
      "text/plain": [
       "                          purpose\n",
       "category purpose                 \n",
       "Business Meeting              186\n",
       "         Meal/Entertain       160\n",
       "         Errand/Supplies      128\n",
       "         Customer Visit       101\n",
       "         Temporary Site        50\n",
       "         Between Offices       18\n",
       "         Airport/Travel         3\n",
       "Personal Moving                 4\n",
       "         Charity ($)            1\n",
       "         Commute                1"
      ]
     },
     "execution_count": 103,
     "metadata": {},
     "output_type": "execute_result"
    }
   ],
   "source": [
    "''' on grouping category by purpose of the ride , we noticed that highest no of rides were taken for business meetings '''\n",
    "\n",
    "data.groupby('category').purpose.value_counts().to_frame()"
   ]
  },
  {
   "cell_type": "code",
   "execution_count": 104,
   "metadata": {
    "ExecuteTime": {
     "end_time": "2020-09-30T07:18:03.878387Z",
     "start_time": "2020-09-30T07:18:03.870408Z"
    }
   },
   "outputs": [
    {
     "data": {
      "text/plain": [
       "Cary                201\n",
       "Unknown Location    148\n",
       "Morrisville          85\n",
       "Whitebridge          68\n",
       "Islamabad            57\n",
       "                   ... \n",
       "Krendle Woods         1\n",
       "Ingleside             1\n",
       "Austin                1\n",
       "Eastgate              1\n",
       "Jackson Heights       1\n",
       "Name: start, Length: 177, dtype: int64"
      ]
     },
     "execution_count": 104,
     "metadata": {},
     "output_type": "execute_result"
    }
   ],
   "source": [
    "data['start'].value_counts()\n",
    "\n",
    "#most of the cabs were booked from Cary"
   ]
  },
  {
   "cell_type": "code",
   "execution_count": 105,
   "metadata": {
    "ExecuteTime": {
     "end_time": "2020-09-30T07:18:04.222496Z",
     "start_time": "2020-09-30T07:18:04.215483Z"
    }
   },
   "outputs": [
    {
     "data": {
      "text/plain": [
       "Cary                202\n",
       "Unknown Location    149\n",
       "Morrisville          84\n",
       "Whitebridge          65\n",
       "Islamabad            58\n",
       "                   ... \n",
       "South Berkeley        1\n",
       "Cedar Hill            1\n",
       "Bywater               1\n",
       "Vista East            1\n",
       "Jackson Heights       1\n",
       "Name: stop, Length: 188, dtype: int64"
      ]
     },
     "execution_count": 105,
     "metadata": {},
     "output_type": "execute_result"
    }
   ],
   "source": [
    "data['stop'].value_counts()\n",
    "\n",
    "# carry must be a meeting point "
   ]
  },
  {
   "cell_type": "markdown",
   "metadata": {},
   "source": [
    "### making new column "
   ]
  },
  {
   "cell_type": "code",
   "execution_count": 106,
   "metadata": {
    "ExecuteTime": {
     "end_time": "2020-09-30T07:18:04.912652Z",
     "start_time": "2020-09-30T07:18:04.908632Z"
    }
   },
   "outputs": [],
   "source": [
    "data['Ride']= 0"
   ]
  },
  {
   "cell_type": "code",
   "execution_count": 107,
   "metadata": {
    "ExecuteTime": {
     "end_time": "2020-09-30T07:18:05.520504Z",
     "start_time": "2020-09-30T07:18:05.508559Z"
    }
   },
   "outputs": [
    {
     "data": {
      "text/plain": [
       "dtype('O')"
      ]
     },
     "execution_count": 107,
     "metadata": {},
     "output_type": "execute_result"
    }
   ],
   "source": [
    "\n",
    "data.loc[(data.start == data.stop), ['Ride']] = 'Local'\n",
    "\n",
    "data.loc[(data.start != data.stop), ['Ride']] = 'Out_of_city'\n",
    "\n",
    "\n",
    "data['Ride'].dtype"
   ]
  },
  {
   "cell_type": "code",
   "execution_count": 108,
   "metadata": {
    "ExecuteTime": {
     "end_time": "2020-09-30T07:18:06.068688Z",
     "start_time": "2020-09-30T07:18:06.063669Z"
    }
   },
   "outputs": [
    {
     "data": {
      "text/plain": [
       "array(['Local', 'Out_of_city'], dtype=object)"
      ]
     },
     "execution_count": 108,
     "metadata": {},
     "output_type": "execute_result"
    }
   ],
   "source": [
    "data['Ride'].unique()"
   ]
  },
  {
   "cell_type": "code",
   "execution_count": 109,
   "metadata": {
    "ExecuteTime": {
     "end_time": "2020-09-30T07:18:06.753857Z",
     "start_time": "2020-09-30T07:18:06.746877Z"
    }
   },
   "outputs": [
    {
     "data": {
      "text/plain": [
       "0    Errand/Supplies\n",
       "dtype: object"
      ]
     },
     "execution_count": 109,
     "metadata": {},
     "output_type": "execute_result"
    }
   ],
   "source": [
    "data[data['Ride'] == 'Local']['purpose'].agg('mode')\n",
    "\n",
    "# rides which have same start and stop city/town are mostly taken for Errand/Supplies purpose"
   ]
  },
  {
   "cell_type": "code",
   "execution_count": 110,
   "metadata": {
    "ExecuteTime": {
     "end_time": "2020-09-30T07:18:07.921187Z",
     "start_time": "2020-09-30T07:18:07.913543Z"
    }
   },
   "outputs": [
    {
     "data": {
      "text/plain": [
       "0    Meeting\n",
       "dtype: object"
      ]
     },
     "execution_count": 110,
     "metadata": {},
     "output_type": "execute_result"
    }
   ],
   "source": [
    "data[data['Ride']== 'Out_of_city']['purpose'].agg('mode')\n",
    "\n",
    "# rides which have same start and stop city/town are mostly taken for Meeting purpose "
   ]
  },
  {
   "cell_type": "code",
   "execution_count": 111,
   "metadata": {
    "ExecuteTime": {
     "end_time": "2020-09-30T07:18:08.992622Z",
     "start_time": "2020-09-30T07:18:08.988616Z"
    }
   },
   "outputs": [
    {
     "data": {
      "text/plain": [
       "\"I can replace nan values of purpose based on 'local/OS' feature\\n\\nErrand/Supplies : WHEN  Ride is local \\n\\nOR\\n\\nMeeting : WHEN  Ride is Out_of_city\\n\\n\""
      ]
     },
     "execution_count": 111,
     "metadata": {},
     "output_type": "execute_result"
    }
   ],
   "source": [
    "'''I can replace nan values of purpose based on 'local/OS' feature\n",
    "\n",
    "Errand/Supplies : WHEN  Ride is local \n",
    "\n",
    "OR\n",
    "\n",
    "Meeting : WHEN  Ride is Out_of_city\n",
    "\n",
    "'''"
   ]
  },
  {
   "cell_type": "code",
   "execution_count": 121,
   "metadata": {
    "ExecuteTime": {
     "end_time": "2020-09-30T08:08:43.395945Z",
     "start_time": "2020-09-30T08:08:43.389960Z"
    }
   },
   "outputs": [
    {
     "data": {
      "text/plain": [
       "177"
      ]
     },
     "execution_count": 121,
     "metadata": {},
     "output_type": "execute_result"
    }
   ],
   "source": [
    "len(data.start.unique())"
   ]
  },
  {
   "cell_type": "code",
   "execution_count": null,
   "metadata": {},
   "outputs": [],
   "source": []
  }
 ],
 "metadata": {
  "kernelspec": {
   "display_name": "Python 3",
   "language": "python",
   "name": "python3"
  },
  "language_info": {
   "codemirror_mode": {
    "name": "ipython",
    "version": 3
   },
   "file_extension": ".py",
   "mimetype": "text/x-python",
   "name": "python",
   "nbconvert_exporter": "python",
   "pygments_lexer": "ipython3",
   "version": "3.7.6"
  },
  "varInspector": {
   "cols": {
    "lenName": 16,
    "lenType": 16,
    "lenVar": 40
   },
   "kernels_config": {
    "python": {
     "delete_cmd_postfix": "",
     "delete_cmd_prefix": "del ",
     "library": "var_list.py",
     "varRefreshCmd": "print(var_dic_list())"
    },
    "r": {
     "delete_cmd_postfix": ") ",
     "delete_cmd_prefix": "rm(",
     "library": "var_list.r",
     "varRefreshCmd": "cat(var_dic_list()) "
    }
   },
   "types_to_exclude": [
    "module",
    "function",
    "builtin_function_or_method",
    "instance",
    "_Feature"
   ],
   "window_display": false
  }
 },
 "nbformat": 4,
 "nbformat_minor": 4
}
